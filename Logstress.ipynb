{
  "nbformat": 4,
  "nbformat_minor": 0,
  "metadata": {
    "colab": {
      "provenance": [],
      "authorship_tag": "ABX9TyNWjS86P+C+c86iFZioO19j",
      "include_colab_link": true
    },
    "kernelspec": {
      "name": "python3",
      "display_name": "Python 3"
    },
    "language_info": {
      "name": "python"
    }
  },
  "cells": [
    {
      "cell_type": "markdown",
      "metadata": {
        "id": "view-in-github",
        "colab_type": "text"
      },
      "source": [
        "<a href=\"https://colab.research.google.com/github/chiragits/logstress/blob/main/Logstress.ipynb\" target=\"_parent\"><img src=\"https://colab.research.google.com/assets/colab-badge.svg\" alt=\"Open In Colab\"/></a>"
      ]
    },
    {
      "cell_type": "code",
      "execution_count": 7,
      "metadata": {
        "colab": {
          "base_uri": "https://localhost:8080/",
          "height": 1000
        },
        "id": "J4I1zT5c9Qmy",
        "outputId": "9a7f17a4-d3a3-4944-b4da-2b077e49b2b7"
      },
      "outputs": [
        {
          "output_type": "stream",
          "name": "stdout",
          "text": [
            "CSV file loaded successfully ✅\n",
            "Columns: ['HRV_MeanNN', 'HRV_SDNN', 'HRV_RMSSD', 'HRV_SDSD', 'HRV_CVNN', 'HRV_CVSD', 'HRV_MedianNN', 'HRV_MadNN', 'HRV_MCVNN', 'HRV_IQRNN', 'HRV_SDRMSSD', 'HRV_Prc20NN', 'HRV_Prc80NN', 'HRV_pNN50', 'HRV_pNN20', 'HRV_MinNN', 'HRV_MaxNN', 'HRV_HTI', 'HRV_TINN', 'Label']\n",
            "   HRV_MeanNN    HRV_SDNN  HRV_RMSSD   HRV_SDSD  HRV_CVNN  HRV_CVSD  \\\n",
            "0  704.390244   72.383185  51.700669  52.356854  0.102760  0.073398   \n",
            "1  781.351351  105.003480  78.436031  79.316188  0.134387  0.100385   \n",
            "2  814.285714   77.934777  57.321674  58.181061  0.095709  0.070395   \n",
            "3  875.367965   55.925687  48.130218  48.822015  0.063888  0.054983   \n",
            "4  841.554622   55.473860  54.611689  55.387019  0.065918  0.064894   \n",
            "\n",
            "   HRV_MedianNN  HRV_MadNN  HRV_MCVNN   HRV_IQRNN  HRV_SDRMSSD  HRV_Prc20NN  \\\n",
            "0    684.285714     52.950   0.077380   82.857143     1.400043   651.428571   \n",
            "1    782.857143    137.670   0.175856  184.285714     1.338715   688.857143   \n",
            "2    814.285714     95.310   0.117047  119.285714     1.359604   745.714286   \n",
            "3    882.857143     50.832   0.057577   62.857143     1.161966   834.285714   \n",
            "4    855.714286     60.363   0.070541   84.285714     1.015787   789.428571   \n",
            "\n",
            "   HRV_Prc80NN  HRV_pNN50  HRV_pNN20   HRV_MinNN   HRV_MaxNN    HRV_HTI  \\\n",
            "0   738.571429  14.634146  56.097561  584.285714  871.428571   5.125000   \n",
            "1   881.714286  29.729730  64.864865  625.714286  990.000000   7.400000   \n",
            "2   882.571429  28.571429  60.000000  638.571429  938.571429  11.666667   \n",
            "3   923.714286  27.272727  63.636364  737.142857  957.142857   8.250000   \n",
            "4   888.000000  29.411765  70.588235  731.428571  954.285714   6.800000   \n",
            "\n",
            "   HRV_TINN  Label  \n",
            "0   70.3125      1  \n",
            "1   62.5000      1  \n",
            "2  179.6875      1  \n",
            "3  132.8125      1  \n",
            "4  132.8125      1  \n",
            "\n",
            "===== Logistic Regression (Binary: Stress vs No Stress) =====\n",
            "              precision    recall  f1-score   support\n",
            "\n",
            "           0       0.88      0.96      0.92       224\n",
            "           1       0.80      0.56      0.66        64\n",
            "\n",
            "    accuracy                           0.87       288\n",
            "   macro avg       0.84      0.76      0.79       288\n",
            "weighted avg       0.87      0.87      0.86       288\n",
            "\n",
            "\n",
            "Confusion Matrix (raw numbers):\n",
            "[[215   9]\n",
            " [ 28  36]]\n"
          ]
        },
        {
          "output_type": "stream",
          "name": "stderr",
          "text": [
            "/usr/local/lib/python3.12/dist-packages/sklearn/linear_model/_logistic.py:465: ConvergenceWarning: lbfgs failed to converge (status=1):\n",
            "STOP: TOTAL NO. OF ITERATIONS REACHED LIMIT.\n",
            "\n",
            "Increase the number of iterations (max_iter) or scale the data as shown in:\n",
            "    https://scikit-learn.org/stable/modules/preprocessing.html\n",
            "Please also refer to the documentation for alternative solver options:\n",
            "    https://scikit-learn.org/stable/modules/linear_model.html#logistic-regression\n",
            "  n_iter_i = _check_optimize_result(\n"
          ]
        },
        {
          "output_type": "display_data",
          "data": {
            "text/plain": [
              "<Figure size 600x400 with 2 Axes>"
            ],
            "image/png": "[encoded data removed]"
          },
          "metadata": {}
        }
      ],
      "source": [
        "import pandas as pd\n",
        "import joblib\n",
        "import matplotlib.pyplot as plt\n",
        "import seaborn as sns\n",
        "from sklearn.model_selection import train_test_split\n",
        "from sklearn.linear_model import LogisticRegression\n",
        "from sklearn.metrics import classification_report, confusion_matrix\n",
        "\n",
        "# Step 1 Load dataset\n",
        "df = pd.read_csv(\"merged_file_all_test.csv\")\n",
        "print(\"CSV file loaded successfully ✅\")\n",
        "print(\"Columns:\", df.columns.tolist())\n",
        "print(df.head())\n",
        "\n",
        "# Step 2 Features and Labels\n",
        "X = df.drop(\"Label\", axis=1)\n",
        "y = df[\"Label\"]\n",
        "\n",
        "# Convert to binary:\n",
        "# Label = 2 → Stress (1), All other labels → No Stress (0)\n",
        "y_binary = (y == 2).astype(int)\n",
        "\n",
        "# Step 3 Train-test split\n",
        "X_train, X_test, y_train, y_test = train_test_split(\n",
        "    X, y_binary, test_size=0.2, random_state=42, stratify=y_binary\n",
        ")\n",
        "\n",
        "# Step 4 Logistic Regression\n",
        "log_reg = LogisticRegression(max_iter=1000)\n",
        "log_reg.fit(X_train, y_train)\n",
        "y_pred_log = log_reg.predict(X_test)\n",
        "\n",
        "print(\"\\n===== Logistic Regression (Binary: Stress vs No Stress) =====\")\n",
        "print(classification_report(y_test, y_pred_log))\n",
        "\n",
        "# Step 5 Confusion Matrix\n",
        "cm = confusion_matrix(y_test, y_pred_log)\n",
        "print(\"\\nConfusion Matrix (raw numbers):\")\n",
        "print(cm)\n",
        "\n",
        "# Step 6 Visualize Confusion Matrix\n",
        "plt.figure(figsize=(6,4))\n",
        "sns.heatmap(cm, annot=True, fmt='d', cmap='Blues', xticklabels=[\"No Stress\", \"Stress\"], yticklabels=[\"No Stress\", \"Stress\"])\n",
        "plt.xlabel(\"Predicted Label\")\n",
        "plt.ylabel(\"True Label\")\n",
        "plt.title(\"Confusion Matrix - Logistic Regression\")\n",
        "plt.show()\n",
        "\n",
        "\n",
        "\n"
      ]
    },
    {
      "cell_type": "code",
      "source": [
        "# Step 7 Save the trained model\n",
        "joblib.dump(log_reg, \"logreg.joblib\")\n",
        "print(\"Model saved successfully as logreg.joblib ✅\")"
      ],
      "metadata": {
        "id": "lrx3u3C-4qo-",
        "outputId": "8c6d17f5-643d-4c7a-bf00-2100c32f2bbe",
        "colab": {
          "base_uri": "https://localhost:8080/"
        }
      },
      "execution_count": 5,
      "outputs": [
        {
          "output_type": "stream",
          "name": "stdout",
          "text": [
            "Model saved successfully as logreg.joblib ✅\n"
          ]
        }
      ]
    }
  ]
}